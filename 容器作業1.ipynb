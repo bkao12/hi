{
  "nbformat": 4,
  "nbformat_minor": 0,
  "metadata": {
    "colab": {
      "provenance": []
    },
    "kernelspec": {
      "name": "python3",
      "display_name": "Python 3"
    },
    "language_info": {
      "name": "python"
    }
  },
  "cells": [
    {
      "cell_type": "code",
      "source": [
        "name = \"高斌\"\n",
        "stuID = \"B1205058\"\n",
        "print(name, stuID)\n",
        "print(type(name), type(stuID))\n",
        "\n",
        "info = {\"name\": name, \"stuID\": stuID}\n",
        "print(info)\n",
        "print(f\"大家好, 我是{name}, 我的學號是{stuID}.\")"
      ],
      "metadata": {
        "colab": {
          "base_uri": "https://localhost:8080/"
        },
        "id": "smkzicB29Bil",
        "outputId": "79ef827e-df7b-4d04-dced-f9e60a6c6c28"
      },
      "execution_count": 19,
      "outputs": [
        {
          "output_type": "stream",
          "name": "stdout",
          "text": [
            "高斌 B1205058\n",
            "<class 'str'> <class 'str'>\n",
            "{'name': '高斌', 'stuID': 'B1205058'}\n",
            "大家好, 我是高斌, 我的學號是B1205058.\n"
          ]
        }
      ]
    }
  ]
}