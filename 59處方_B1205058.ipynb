{
  "nbformat": 4,
  "nbformat_minor": 0,
  "metadata": {
    "colab": {
      "provenance": []
    },
    "kernelspec": {
      "name": "python3",
      "display_name": "Python 3"
    },
    "language_info": {
      "name": "python"
    }
  },
  "cells": [
    {
      "cell_type": "code",
      "execution_count": 1,
      "metadata": {
        "colab": {
          "base_uri": "https://localhost:8080/"
        },
        "id": "4I4onXFaErgV",
        "outputId": "65593cca-e0ce-49dd-e799-dfb4ebbef6dd"
      },
      "outputs": [
        {
          "output_type": "stream",
          "name": "stdout",
          "text": [
            "\n",
            "您想查詢什麼？(藥方名稱/出典/處方/效能/適應症/退出查詢)：藥方\n",
            "輸入無效，請重新輸入。\n",
            "\n",
            "您想查詢什麼？(藥方名稱/出典/處方/效能/適應症/退出查詢)：藥方名稱\n",
            "小續命湯\n",
            "\n",
            "您想查詢什麼？(藥方名稱/出典/處方/效能/適應症/退出查詢)：出典\n",
            "小續命湯的出典為:醫方集解\n",
            "\n",
            "您想查詢什麼？(藥方名稱/出典/處方/效能/適應症/退出查詢)：處方\n",
            "小續命湯的處方為:\n",
            "麻黃：2公克\n",
            "桂枝：2公克\n",
            "甘草：2公克\n",
            "生薑：6公克\n",
            "人參：2公克\n",
            "川芎：2公克\n",
            "杏仁：2公克\n",
            "炮附子：1公克\n",
            "防己：2公克\n",
            "白芍：2公克\n",
            "黃芩：2公克\n",
            "防風：3公克\n",
            "大棗：1公克\n",
            "總克數為：29公克\n",
            "\n",
            "您想查詢什麼？(藥方名稱/出典/處方/效能/適應症/退出查詢)：效能\n",
            "小續命湯的效能是:補氣散寒、疏風祛濕。\n",
            "\n",
            "您想查詢什麼？(藥方名稱/出典/處方/效能/適應症/退出查詢)：適應症\n",
            "小續命湯的適應症有:\n",
            "中風\n",
            "口眼歪斜\n",
            "筋脈拘急\n",
            "半身不遂\n",
            "舌強不能語\n",
            "神情悶亂\n",
            "\n",
            "您想查詢什麼？(藥方名稱/出典/處方/效能/適應症/退出查詢)：退出查詢\n",
            "感謝使用，再見！\n"
          ]
        }
      ],
      "source": [
        "# 定義六味地黃丸的資料\n",
        "prescription = {\n",
        "    '名稱': '小續命湯',\n",
        "    '出典': '醫方集解',\n",
        "    '處方': {\n",
        "        '麻黃': 2,  # 公克\n",
        "        '桂枝': 2,\n",
        "        '甘草': 2,\n",
        "        '生薑': 6,\n",
        "        '人參': 2,\n",
        "        '川芎': 2,\n",
        "        '杏仁': 2,\n",
        "        '炮附子': 1,\n",
        "        '防己': 2,\n",
        "        '白芍': 2,\n",
        "        '黃芩': 2,\n",
        "        '防風': 3,\n",
        "        '大棗': 1,\n",
        "    },\n",
        "    '效能': '補氣散寒、疏風祛濕。',\n",
        "    '適應症': ['中風', '口眼歪斜', '筋脈拘急', '半身不遂', '舌強不能語', '神情悶亂']\n",
        "}\n",
        "\n",
        "while True:\n",
        "    quest = input(\"\\n您想查詢什麼？(藥方名稱/出典/處方/效能/適應症/退出查詢)：\")\n",
        "\n",
        "    if quest == \"藥方名稱\":\n",
        "        print(f\"{prescription['名稱']}\")\n",
        "    elif quest == \"出典\":\n",
        "        print(f\"{prescription['名稱']}的出典為:{prescription['出典']}\")\n",
        "    elif quest == \"適應症\":\n",
        "        print(f\"{prescription['名稱']}的適應症有:\")\n",
        "        for symptom in prescription['適應症']:\n",
        "            print(symptom)\n",
        "    elif quest == \"處方\":\n",
        "        all = sum(prescription['處方'].values())\n",
        "        print(f\"{prescription['名稱']}的處方為:\")\n",
        "        for medicine, weight in prescription['處方'].items():\n",
        "            print(f\"{medicine}：{weight}公克\")\n",
        "        print(f\"總克數為：{all}公克\")\n",
        "    elif quest == \"效能\":\n",
        "        print(f\"{prescription['名稱']}的效能是:{prescription['效能']}\")\n",
        "    elif quest == \"退出查詢\":\n",
        "        print(\"感謝使用，再見！\")\n",
        "        break\n",
        "    else:\n",
        "        print(\"輸入無效，請重新輸入。\")\n",
        "\n"
      ]
    }
  ]
}