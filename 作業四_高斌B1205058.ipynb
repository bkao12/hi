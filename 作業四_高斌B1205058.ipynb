{
  "nbformat": 4,
  "nbformat_minor": 0,
  "metadata": {
    "colab": {
      "provenance": []
    },
    "kernelspec": {
      "name": "python3",
      "display_name": "Python 3"
    },
    "language_info": {
      "name": "python"
    }
  },
  "cells": [
    {
      "cell_type": "code",
      "source": [
        "n = int(input(\"請輸入數字:\" ))\n",
        "for i in range(1,n + 1):\n",
        "  for j in range(1,n + 1):\n",
        "    product = i * j\n",
        "    print(f\"{i} x {j} = {product}\")"
      ],
      "metadata": {
        "colab": {
          "base_uri": "https://localhost:8080/"
        },
        "id": "0GJpYk2kAJCa",
        "outputId": "389dcaed-e0a7-4430-a372-bad167ddefbf"
      },
      "execution_count": 11,
      "outputs": [
        {
          "output_type": "stream",
          "name": "stdout",
          "text": [
            "請輸入數字:6\n",
            "1 x 1 = 1\n",
            "1 x 2 = 2\n",
            "1 x 3 = 3\n",
            "1 x 4 = 4\n",
            "1 x 5 = 5\n",
            "1 x 6 = 6\n",
            "2 x 1 = 2\n",
            "2 x 2 = 4\n",
            "2 x 3 = 6\n",
            "2 x 4 = 8\n",
            "2 x 5 = 10\n",
            "2 x 6 = 12\n",
            "3 x 1 = 3\n",
            "3 x 2 = 6\n",
            "3 x 3 = 9\n",
            "3 x 4 = 12\n",
            "3 x 5 = 15\n",
            "3 x 6 = 18\n",
            "4 x 1 = 4\n",
            "4 x 2 = 8\n",
            "4 x 3 = 12\n",
            "4 x 4 = 16\n",
            "4 x 5 = 20\n",
            "4 x 6 = 24\n",
            "5 x 1 = 5\n",
            "5 x 2 = 10\n",
            "5 x 3 = 15\n",
            "5 x 4 = 20\n",
            "5 x 5 = 25\n",
            "5 x 6 = 30\n",
            "6 x 1 = 6\n",
            "6 x 2 = 12\n",
            "6 x 3 = 18\n",
            "6 x 4 = 24\n",
            "6 x 5 = 30\n",
            "6 x 6 = 36\n"
          ]
        }
      ]
    },
    {
      "cell_type": "code",
      "source": [
        "import random\n",
        "target_number = random.randint(1, 100)\n",
        "\n",
        "print(\"Welcome to the number guessing game\")\n",
        "\n",
        "while True:\n",
        "  guess = int(input(\"please guess a number from 1 to 100:\"))\n",
        "  if guess == target_number:\n",
        "    print(\"congrats! you got the right number!\")\n",
        "    break\n",
        "  elif guess > target_number:\n",
        "    print(\"your number is too large!\")\n",
        "  elif guess < target_number:\n",
        "    print(\"your number is too small!\")\n",
        "\n",
        "print(\"thanks for playing!\")\n"
      ],
      "metadata": {
        "colab": {
          "base_uri": "https://localhost:8080/"
        },
        "id": "3RADSZnOBBzT",
        "outputId": "0c100670-5ee7-4a9f-94a4-d47aa1f2cf66"
      },
      "execution_count": 9,
      "outputs": [
        {
          "output_type": "stream",
          "name": "stdout",
          "text": [
            "Welcome to the number guessing game\n",
            "please guess a number from 1 to 100:9\n",
            "your number is too small!\n",
            "please guess a number from 1 to 100:50\n",
            "your number is too small!\n",
            "please guess a number from 1 to 100:75\n",
            "your number is too large!\n",
            "please guess a number from 1 to 100:66\n",
            "your number is too large!\n",
            "please guess a number from 1 to 100:56\n",
            "your number is too large!\n",
            "please guess a number from 1 to 100:55\n",
            "your number is too large!\n",
            "please guess a number from 1 to 100:53\n",
            "congrats! you got the right number!\n"
          ]
        }
      ]
    }
  ]
}